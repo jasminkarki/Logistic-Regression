{
 "cells": [
  {
   "cell_type": "code",
   "execution_count": 39,
   "metadata": {
    "colab": {
     "base_uri": "https://localhost:8080/",
     "height": 204
    },
    "colab_type": "code",
    "executionInfo": {
     "elapsed": 1825,
     "status": "ok",
     "timestamp": 1583285436411,
     "user": {
      "displayName": "Anish Dulal",
      "photoUrl": "",
      "userId": "10897710855285633605"
     },
     "user_tz": -345
    },
    "id": "RTzaLNwfKW_O",
    "outputId": "6ef4b4b8-2866-412e-d7d9-3c46d8c942e8"
   },
   "outputs": [
    {
     "data": {
      "text/html": [
       "<div>\n",
       "<style scoped>\n",
       "    .dataframe tbody tr th:only-of-type {\n",
       "        vertical-align: middle;\n",
       "    }\n",
       "\n",
       "    .dataframe tbody tr th {\n",
       "        vertical-align: top;\n",
       "    }\n",
       "\n",
       "    .dataframe thead th {\n",
       "        text-align: right;\n",
       "    }\n",
       "</style>\n",
       "<table border=\"1\" class=\"dataframe\">\n",
       "  <thead>\n",
       "    <tr style=\"text-align: right;\">\n",
       "      <th></th>\n",
       "      <th>Phrase</th>\n",
       "      <th>label</th>\n",
       "    </tr>\n",
       "  </thead>\n",
       "  <tbody>\n",
       "    <tr>\n",
       "      <th>0</th>\n",
       "      <td>Spider-man is better than any summer blockbust...</td>\n",
       "      <td>Positive</td>\n",
       "    </tr>\n",
       "    <tr>\n",
       "      <th>1</th>\n",
       "      <td>of good sense</td>\n",
       "      <td>Positive</td>\n",
       "    </tr>\n",
       "    <tr>\n",
       "      <th>2</th>\n",
       "      <td>, then knock yourself out and enjoy the big sc...</td>\n",
       "      <td>Negative</td>\n",
       "    </tr>\n",
       "    <tr>\n",
       "      <th>3</th>\n",
       "      <td>So could young romantics out on a date .</td>\n",
       "      <td>Positive</td>\n",
       "    </tr>\n",
       "    <tr>\n",
       "      <th>4</th>\n",
       "      <td>humour</td>\n",
       "      <td>Positive</td>\n",
       "    </tr>\n",
       "  </tbody>\n",
       "</table>\n",
       "</div>"
      ],
      "text/plain": [
       "                                              Phrase     label\n",
       "0  Spider-man is better than any summer blockbust...  Positive\n",
       "1                                      of good sense  Positive\n",
       "2  , then knock yourself out and enjoy the big sc...  Negative\n",
       "3           So could young romantics out on a date .  Positive\n",
       "4                                             humour  Positive"
      ]
     },
     "execution_count": 39,
     "metadata": {},
     "output_type": "execute_result"
    }
   ],
   "source": [
    "import numpy as np\n",
    "import pandas as pd\n",
    "import matplotlib.pyplot as plt\n",
    "import seaborn as sns\n",
    "%matplotlib inline\n",
    "\n",
    "#open('/content/gdrive/My Drive/sentiment.csv')\n",
    "# df = pd.read_csv(open('/content/gdrive/My Drive/sentiment.csv'))\n",
    "df = pd.read_csv('sentiment.csv')\n",
    "df.head()"
   ]
  },
  {
   "cell_type": "code",
   "execution_count": 40,
   "metadata": {
    "colab": {
     "base_uri": "https://localhost:8080/",
     "height": 34
    },
    "colab_type": "code",
    "executionInfo": {
     "elapsed": 1542,
     "status": "ok",
     "timestamp": 1583287515666,
     "user": {
      "displayName": "Anish Dulal",
      "photoUrl": "",
      "userId": "10897710855285633605"
     },
     "user_tz": -345
    },
    "id": "4It_IZzqKh5-",
    "outputId": "e29db27c-c8df-4c64-f3eb-7c7b79a379ac"
   },
   "outputs": [
    {
     "data": {
      "text/plain": [
       "2800"
      ]
     },
     "execution_count": 40,
     "metadata": {},
     "output_type": "execute_result"
    }
   ],
   "source": [
    "len(df)\n",
    "#X = df['Phrase'].values\n",
    "#y = df['label'].values"
   ]
  },
  {
   "cell_type": "code",
   "execution_count": 41,
   "metadata": {
    "colab": {
     "base_uri": "https://localhost:8080/",
     "height": 34
    },
    "colab_type": "code",
    "executionInfo": {
     "elapsed": 1445,
     "status": "ok",
     "timestamp": 1583287519115,
     "user": {
      "displayName": "Anish Dulal",
      "photoUrl": "",
      "userId": "10897710855285633605"
     },
     "user_tz": -345
    },
    "id": "lmyUro44LHH_",
    "outputId": "1ea7f24e-4ef9-4aa0-f43c-5895c51bc79b"
   },
   "outputs": [
    {
     "name": "stdout",
     "output_type": "stream",
     "text": [
      "1680 560 560\n"
     ]
    }
   ],
   "source": [
    "total = len(df)\n",
    "train = int(0.6 * total)\n",
    "val = int(0.2*total)\n",
    "\n",
    "train_df = df[:train]\n",
    "#y_train = y[:train].reshape(-1,1)\n",
    "\n",
    "val_df = df[train:train + val]\n",
    "#y_val = y[train:train +val].reshape(-1,1)\n",
    "\n",
    "test_df = df[train + val:]\n",
    "#y_test = y[train + val:].reshape(-1,1)\n",
    "\n",
    "print(len(train_df), len(val_df),len(test_df))"
   ]
  },
  {
   "cell_type": "code",
   "execution_count": 42,
   "metadata": {
    "colab": {
     "base_uri": "https://localhost:8080/",
     "height": 204
    },
    "colab_type": "code",
    "executionInfo": {
     "elapsed": 1677,
     "status": "ok",
     "timestamp": 1583287650957,
     "user": {
      "displayName": "Anish Dulal",
      "photoUrl": "",
      "userId": "10897710855285633605"
     },
     "user_tz": -345
    },
    "id": "lSPJW3jzRQ5h",
    "outputId": "b22a0fbf-75cb-4941-dfb2-5cc50208aa1d"
   },
   "outputs": [
    {
     "data": {
      "text/html": [
       "<div>\n",
       "<style scoped>\n",
       "    .dataframe tbody tr th:only-of-type {\n",
       "        vertical-align: middle;\n",
       "    }\n",
       "\n",
       "    .dataframe tbody tr th {\n",
       "        vertical-align: top;\n",
       "    }\n",
       "\n",
       "    .dataframe thead th {\n",
       "        text-align: right;\n",
       "    }\n",
       "</style>\n",
       "<table border=\"1\" class=\"dataframe\">\n",
       "  <thead>\n",
       "    <tr style=\"text-align: right;\">\n",
       "      <th></th>\n",
       "      <th>Phrase</th>\n",
       "      <th>label</th>\n",
       "    </tr>\n",
       "  </thead>\n",
       "  <tbody>\n",
       "    <tr>\n",
       "      <th>0</th>\n",
       "      <td>Spider-man is better than any summer blockbust...</td>\n",
       "      <td>Positive</td>\n",
       "    </tr>\n",
       "    <tr>\n",
       "      <th>1</th>\n",
       "      <td>of good sense</td>\n",
       "      <td>Positive</td>\n",
       "    </tr>\n",
       "    <tr>\n",
       "      <th>2</th>\n",
       "      <td>, then knock yourself out and enjoy the big sc...</td>\n",
       "      <td>Negative</td>\n",
       "    </tr>\n",
       "    <tr>\n",
       "      <th>3</th>\n",
       "      <td>So could young romantics out on a date .</td>\n",
       "      <td>Positive</td>\n",
       "    </tr>\n",
       "    <tr>\n",
       "      <th>4</th>\n",
       "      <td>humour</td>\n",
       "      <td>Positive</td>\n",
       "    </tr>\n",
       "  </tbody>\n",
       "</table>\n",
       "</div>"
      ],
      "text/plain": [
       "                                              Phrase     label\n",
       "0  Spider-man is better than any summer blockbust...  Positive\n",
       "1                                      of good sense  Positive\n",
       "2  , then knock yourself out and enjoy the big sc...  Negative\n",
       "3           So could young romantics out on a date .  Positive\n",
       "4                                             humour  Positive"
      ]
     },
     "execution_count": 42,
     "metadata": {},
     "output_type": "execute_result"
    }
   ],
   "source": [
    "train_df.head()"
   ]
  },
  {
   "cell_type": "code",
   "execution_count": 43,
   "metadata": {
    "colab": {
     "base_uri": "https://localhost:8080/",
     "height": 34
    },
    "colab_type": "code",
    "executionInfo": {
     "elapsed": 1419,
     "status": "ok",
     "timestamp": 1583288185163,
     "user": {
      "displayName": "Anish Dulal",
      "photoUrl": "",
      "userId": "10897710855285633605"
     },
     "user_tz": -345
    },
    "id": "KiwP3eMGRt9_",
    "outputId": "0fef89f7-2ecb-43dc-9c35-1d3041c4da2d"
   },
   "outputs": [
    {
     "name": "stdout",
     "output_type": "stream",
     "text": [
      "13855 1844\n"
     ]
    }
   ],
   "source": [
    "vocab = list()\n",
    "for i in train_df.Phrase.tolist():\n",
    "    vocab.extend(i.split(' '))\n",
    "u_vocab = list(set(vocab))\n",
    "print(len(vocab),len(u_vocab))"
   ]
  },
  {
   "cell_type": "code",
   "execution_count": 44,
   "metadata": {},
   "outputs": [
    {
     "name": "stdout",
     "output_type": "stream",
     "text": [
      "CPU times: user 4 µs, sys: 2 µs, total: 6 µs\n",
      "Wall time: 11.7 µs\n"
     ]
    },
    {
     "data": {
      "text/plain": [
       "array(['Spider-man', 'is', 'better', ..., 'their', 'own', '.'],\n",
       "      dtype='<U18')"
      ]
     },
     "execution_count": 44,
     "metadata": {},
     "output_type": "execute_result"
    }
   ],
   "source": [
    "%time\n",
    "nplist=np.array(vocab)\n",
    "nplist\n"
   ]
  },
  {
   "cell_type": "markdown",
   "metadata": {
    "colab_type": "text",
    "id": "eoCB5P-EWjAL"
   },
   "source": [
    "## Feature Extraction"
   ]
  },
  {
   "cell_type": "code",
   "execution_count": 45,
   "metadata": {
    "colab": {},
    "colab_type": "code",
    "id": "Mrwt891RWn0g"
   },
   "outputs": [],
   "source": [
    "def extract_feature(f_df):\n",
    "    feature = []\n",
    "    label = []\n",
    "    for index, row in train_df.iterrows():\n",
    "        words = row['Phrase'].split(\" \")\n",
    "        f = []\n",
    "        for v in u_vocab:\n",
    "            if v in words:\n",
    "                f.append(1)\n",
    "            else:\n",
    "                f.append(0)\n",
    "        if row['label'] == \"Positive\":\n",
    "            label.append(1)\n",
    "        elif row['label'] == \"Negative\":\n",
    "            label.append(0)\n",
    "\n",
    "        feature.append(f)\n",
    "    feature = np.array(feature)\n",
    "    label = np.array(label)\n",
    "    label = label.reshape(-1,1)\n",
    "    return feature, label"
   ]
  },
  {
   "cell_type": "code",
   "execution_count": 46,
   "metadata": {
    "colab": {},
    "colab_type": "code",
    "id": "uz8zIWG-Zr2Y"
   },
   "outputs": [],
   "source": [
    "X_train, y_train = extract_feature(train_df)\n",
    "X_val, y_val = extract_feature(val_df)\n",
    "X_test, y_test = extract_feature(test_df)"
   ]
  },
  {
   "cell_type": "code",
   "execution_count": 47,
   "metadata": {
    "colab": {
     "base_uri": "https://localhost:8080/",
     "height": 34
    },
    "colab_type": "code",
    "executionInfo": {
     "elapsed": 1465,
     "status": "ok",
     "timestamp": 1583289713152,
     "user": {
      "displayName": "Anish Dulal",
      "photoUrl": "",
      "userId": "10897710855285633605"
     },
     "user_tz": -345
    },
    "id": "OrrzcqfOXWxv",
    "outputId": "f2f334d7-8404-4503-e5ac-ad93718f8241"
   },
   "outputs": [
    {
     "data": {
      "text/plain": [
       "(1680, 1844)"
      ]
     },
     "execution_count": 47,
     "metadata": {},
     "output_type": "execute_result"
    }
   ],
   "source": [
    "X_test.shape"
   ]
  },
  {
   "cell_type": "code",
   "execution_count": 48,
   "metadata": {},
   "outputs": [
    {
     "data": {
      "text/plain": [
       "(1680, 1)"
      ]
     },
     "execution_count": 48,
     "metadata": {},
     "output_type": "execute_result"
    }
   ],
   "source": [
    "y_train.shape"
   ]
  },
  {
   "cell_type": "code",
   "execution_count": 49,
   "metadata": {
    "colab": {},
    "colab_type": "code",
    "id": "ri_Zmg3HaTVD"
   },
   "outputs": [],
   "source": [
    "X_train = np.insert(X_train, 0, values = 1 , axis = 1)\n",
    "X_val = np.insert(X_val, 0, values = 1 , axis = 1)\n",
    "X_test = np.insert(X_test, 0, values = 1 , axis = 1)"
   ]
  },
  {
   "cell_type": "code",
   "execution_count": 50,
   "metadata": {
    "colab": {
     "base_uri": "https://localhost:8080/",
     "height": 34
    },
    "colab_type": "code",
    "executionInfo": {
     "elapsed": 2642,
     "status": "ok",
     "timestamp": 1583290488838,
     "user": {
      "displayName": "Anish Dulal",
      "photoUrl": "",
      "userId": "10897710855285633605"
     },
     "user_tz": -345
    },
    "id": "FqQJbQd8bTR7",
    "outputId": "4e1012c4-de11-42a4-84e2-f0f5f8727ebb"
   },
   "outputs": [
    {
     "name": "stdout",
     "output_type": "stream",
     "text": [
      "(1680, 1845)\n",
      "(1680, 1)\n"
     ]
    }
   ],
   "source": [
    "print(X_train.shape)\n",
    "print(y_train.shape)"
   ]
  },
  {
   "cell_type": "code",
   "execution_count": 51,
   "metadata": {
    "colab": {},
    "colab_type": "code",
    "id": "0E6EM-6Zb9bn"
   },
   "outputs": [
    {
     "data": {
      "text/plain": [
       "array([[1, 0, 0, ..., 0, 0, 0],\n",
       "       [1, 0, 0, ..., 0, 0, 0],\n",
       "       [1, 0, 0, ..., 0, 0, 0],\n",
       "       ...,\n",
       "       [1, 0, 0, ..., 0, 0, 0],\n",
       "       [1, 0, 0, ..., 0, 0, 0],\n",
       "       [1, 0, 0, ..., 0, 1, 0]])"
      ]
     },
     "execution_count": 51,
     "metadata": {},
     "output_type": "execute_result"
    }
   ],
   "source": [
    "X_train"
   ]
  },
  {
   "cell_type": "code",
   "execution_count": null,
   "metadata": {},
   "outputs": [],
   "source": []
  },
  {
   "cell_type": "markdown",
   "metadata": {},
   "source": [
    "## Sigmoid Function"
   ]
  },
  {
   "cell_type": "code",
   "execution_count": 52,
   "metadata": {},
   "outputs": [],
   "source": [
    "def Sigmoid(x):\n",
    "    return 1/(1+np.exp(-x))"
   ]
  },
  {
   "cell_type": "code",
   "execution_count": 53,
   "metadata": {},
   "outputs": [],
   "source": [
    "np.random.seed(42)\n",
    "\n",
    "train_error=[]\n",
    "\n",
    "param={\n",
    "    'num_of_iteration':1000,\n",
    "    'learning_rate':0.1,\n",
    "    'regularization':0.1\n",
    "}\n",
    "\n",
    "grid_param={\n",
    "    'num_of_iteration':[5000],\n",
    "    'learning_rate':[0.1,0.9,5],\n",
    "    'regularization':[0.001]\n",
    "}\n",
    "\n",
    "def Cost(h,y):\n",
    "    return (-y*np.log(h)-(1-y)*np.log(1-h)).mean()"
   ]
  },
  {
   "cell_type": "code",
   "execution_count": 54,
   "metadata": {},
   "outputs": [
    {
     "name": "stdout",
     "output_type": "stream",
     "text": [
      "[(5000, 0.1, 0.001), (5000, 0.9, 0.001), (5000, 5, 0.001)]\n"
     ]
    }
   ],
   "source": [
    "import itertools\n",
    "grid=list(itertools.product(grid_param['num_of_iteration'],grid_param['learning_rate'],grid_param['regularization']))\n",
    "print(grid)"
   ]
  },
  {
   "cell_type": "code",
   "execution_count": 55,
   "metadata": {},
   "outputs": [],
   "source": [
    "def train_model(X_train, y_train, X_val, y_val, param):\n",
    "    np.random.seed(42)\n",
    "    W=np.random.rand(X_train.shape[1]).reshape(-1,1)    #We reshape the row vector(1*4) to column vector(4*1)\n",
    "    \n",
    "    train_error=[]\n",
    "    val_error=[]\n",
    "    \n",
    "\n",
    "    #Run the loop num_of_iteration times \n",
    "    for i in range(1,param['num_of_iteration']):\n",
    "        z=np.matmul(X_train,W)        #z is matrix mul of X_train and W\n",
    "        h_train=Sigmoid(z)\n",
    "        R=param['regularization']*sum(W**2)\n",
    "        train_loss=Cost(h_train,y_train)+R   #loss in training data is calculated by calling MSE function\n",
    "#         print(train_loss)\n",
    "        train_error.append(train_loss)      \n",
    "        \n",
    "        #Gradient-- Code form of the formula. shape[0] gives the number of rows\n",
    "#         gradient_main=(np.matmul(np.transpose(h_train-y_train),X_train)/X_train.shape[0])   \n",
    "        gradient_main=np.matmul(X_train.T,(h_train-y_train))/X_train.shape[0]     \n",
    "        \n",
    "        #Regularized Gradient\n",
    "        gradient_reg=2*param['regularization']*W\n",
    "#         print(gradient_main.shape)\n",
    "        gradient_reg[0]=0\n",
    "        gradient=gradient_main+gradient_reg\n",
    "        \n",
    "        #W is the updated weight\n",
    "#         W=W-param['learning_rate']*gradient\n",
    "        W=W-param['learning_rate']*gradient\n",
    "    \n",
    "    #Once training is done. We have to use Val set to tune hyper parameter. \n",
    "    #The p(combination) that gives least error is our final value for hyperparameters.\n",
    "    z_val=np.matmul(X_val,W)\n",
    "    val_loss=Cost(Sigmoid(z_val),y_val)\n",
    "    val_error.append(val_loss)\n",
    "    return W, train_error, val_error"
   ]
  },
  {
   "cell_type": "code",
   "execution_count": 56,
   "metadata": {},
   "outputs": [],
   "source": [
    "# Weights,train_error,val_error=train_model(X_train,y_train,X_val,y_val,param)\n",
    "# # print(train_error)\n",
    "# plt.plot(np.arange(len(train_error)),train_error)\n",
    "# plt.xlabel(\"No. of iterations\")\n",
    "# plt.ylabel(\"Training Error\")   \n",
    "# plt.show()"
   ]
  },
  {
   "cell_type": "code",
   "execution_count": null,
   "metadata": {},
   "outputs": [
    {
     "name": "stdout",
     "output_type": "stream",
     "text": [
      "{'num_of_iteration': 5000, 'learning_rate': 0.1, 'regularization': 0.001}\n",
      "[0.3619127036328045]\n"
     ]
    },
    {
     "data": {
      "image/png": "[encoded data removed]",
      "text/plain": [
       "<Figure size 432x288 with 1 Axes>"
      ]
     },
     "metadata": {
      "needs_background": "light"
     },
     "output_type": "display_data"
    },
    {
     "name": "stdout",
     "output_type": "stream",
     "text": [
      "{'num_of_iteration': 5000, 'learning_rate': 0.9, 'regularization': 0.001}\n",
      "[0.3365609658637123]\n"
     ]
    },
    {
     "data": {
      "image/png": "[encoded data removed]",
      "text/plain": [
       "<Figure size 432x288 with 1 Axes>"
      ]
     },
     "metadata": {
      "needs_background": "light"
     },
     "output_type": "display_data"
    },
    {
     "name": "stdout",
     "output_type": "stream",
     "text": [
      "{'num_of_iteration': 5000, 'learning_rate': 5, 'regularization': 0.001}\n"
     ]
    }
   ],
   "source": [
    "for g in grid:\n",
    "    p={\n",
    "    'num_of_iteration':g[0],\n",
    "    'learning_rate':g[1],\n",
    "    'regularization':g[2]\n",
    "    }\n",
    "    print(p)\n",
    "    Weights,train_error,val_error=train_model(X_train,y_train,X_val,y_val,p)\n",
    "    print(val_error)\n",
    "    plt.plot(np.arange(len(train_error)),train_error)\n",
    "    plt.xlabel(\"No. of iterations\")\n",
    "    plt.ylabel(\"Training Error\")   \n",
    "    plt.show()"
   ]
  },
  {
   "cell_type": "code",
   "execution_count": null,
   "metadata": {},
   "outputs": [],
   "source": [
    "final_param = {'num_of_iteration': 5000, 'learning_rate': 5.0, 'regularization': 0.000}\n",
    "final_param1 = {'num_of_iteration': 5000, 'learning_rate': 0.9, 'regularization': 0.001}\n",
    "model_weights =  train_model(X_train,y_train,X_val,y_val,final_param) #Returns Weight, train_error and validation error\n"
   ]
  },
  {
   "cell_type": "code",
   "execution_count": null,
   "metadata": {},
   "outputs": [],
   "source": [
    "#Select weight only as\n",
    "model_weights=model_weights[0]\n",
    "model_weights"
   ]
  },
  {
   "cell_type": "code",
   "execution_count": null,
   "metadata": {},
   "outputs": [],
   "source": [
    "model_weights.shape"
   ]
  },
  {
   "cell_type": "code",
   "execution_count": null,
   "metadata": {},
   "outputs": [],
   "source": [
    "X_train.shape"
   ]
  },
  {
   "cell_type": "code",
   "execution_count": null,
   "metadata": {},
   "outputs": [],
   "source": [
    "X_test.shape"
   ]
  },
  {
   "cell_type": "code",
   "execution_count": null,
   "metadata": {},
   "outputs": [],
   "source": [
    "y_test.shape"
   ]
  },
  {
   "cell_type": "code",
   "execution_count": null,
   "metadata": {},
   "outputs": [],
   "source": [
    "y_test.reshape(1,-1)"
   ]
  },
  {
   "cell_type": "markdown",
   "metadata": {},
   "source": [
    "### Concept:\n",
    "#### X_test * model_weights  ----> Prediction  ~ y_test\n",
    "### (1680,1845) * (1845,1) ---> (1680,1) ~ (1680,1)"
   ]
  },
  {
   "cell_type": "code",
   "execution_count": null,
   "metadata": {},
   "outputs": [],
   "source": [
    "prediction=np.dot(X_test,model_weights)"
   ]
  },
  {
   "cell_type": "code",
   "execution_count": null,
   "metadata": {},
   "outputs": [],
   "source": [
    "predict=list(map(lambda x: 0 if x<=0.5 else 1, prediction))"
   ]
  },
  {
   "cell_type": "code",
   "execution_count": null,
   "metadata": {},
   "outputs": [],
   "source": [
    "print('+ve in prediction  : ',predict.count(1)) # Positive Predictions\n",
    "# print('+ve in test dataset: ',y_test.count(1))\n",
    "print('-ve in prediction  : ',predict.count(0)) # Negative Predictions\n",
    "# print('-ve in test dataset: ',y_test.count(0))"
   ]
  },
  {
   "cell_type": "code",
   "execution_count": null,
   "metadata": {},
   "outputs": [],
   "source": [
    "print(predict[9])\n",
    "y_test[9]"
   ]
  },
  {
   "cell_type": "code",
   "execution_count": null,
   "metadata": {},
   "outputs": [],
   "source": [
    "tp=fp=fn=tn=0\n",
    "\n",
    "for i in range(len(predict)):\n",
    "    if (predict[i]==1 and y_test[i]==1):\n",
    "        tp+=1\n",
    "    elif (predict[i]==1 and y_test[i]==0):\n",
    "        fp+=1\n",
    "    elif (predict[i]==0 and y_test[i]==1):\n",
    "        fn+=1\n",
    "    else:\n",
    "        tn+=1\n",
    "\n",
    "print('True Positive: {}\\nFalse Positive: {}\\nFalse Negative: {}\\nTrue Negative: {}'.format(tp,fp,fn,tn))"
   ]
  },
  {
   "cell_type": "code",
   "execution_count": null,
   "metadata": {},
   "outputs": [],
   "source": [
    "print('\\t\\tConfusion Matrix\\n')\n",
    "print('\\t\\tActual Value')\n",
    "print(' \\tPositive\\tNegative')\n",
    "print('+ \\t{}\\t\\t{}'.format(tp,fp))\n",
    "print('- \\t{}\\t\\t{}'.format(fn,tn))"
   ]
  },
  {
   "cell_type": "code",
   "execution_count": null,
   "metadata": {},
   "outputs": [],
   "source": [
    "precision=tp/(tp+fp)\n",
    "recall=tp/(tp+fn)\n",
    "f1=(2*precision*recall)/(precision+recall)\n",
    "accuracy=(tp+tn)/(len(y_test))\n",
    "specificity=tn/(tn+fp)\n"
   ]
  },
  {
   "cell_type": "code",
   "execution_count": null,
   "metadata": {},
   "outputs": [],
   "source": [
    "print('Precision\\t: {}\\nRecall\\t\\t: {}\\nF1\\t\\t: {}\\nAccuracy\\t: {}'.format(precision,recall,f1,accuracy))"
   ]
  },
  {
   "cell_type": "code",
   "execution_count": null,
   "metadata": {},
   "outputs": [],
   "source": [
    "# final_param = {'num_of_iteration': 5000, 'learning_rate': 0.9, 'regularization': 0.001}\n",
    "\n",
    "# Precision\t: 0.9516864175022789\n",
    "# Recall\t\t: 0.9613259668508287\n",
    "# F1\t\t: 0.9564819056344479\n",
    "# Accuracy\t: 0.9434523809523809\n",
    "\n",
    "# final_param = {'num_of_iteration': 5000, 'learning_rate': 0.1, 'regularization': 0.001}\n",
    "# Precision\t: 0.9341864716636198\n",
    "# Recall\t\t: 0.9410681399631676\n",
    "# F1\t\t: 0.9376146788990826\n",
    "# Accuracy\t: 0.919047619047619"
   ]
  },
  {
   "cell_type": "code",
   "execution_count": null,
   "metadata": {},
   "outputs": [],
   "source": []
  },
  {
   "cell_type": "code",
   "execution_count": null,
   "metadata": {},
   "outputs": [],
   "source": []
  },
  {
   "cell_type": "code",
   "execution_count": null,
   "metadata": {},
   "outputs": [],
   "source": [
    "# from pandas_ml import ConfusionMatrix\n",
    "# confusion_matrix = plt.ConfusionMatrix(predict, y_test)\n",
    "# print(\"Confusion matrix:\\n%s\" % confusion_matrix)"
   ]
  },
  {
   "cell_type": "code",
   "execution_count": null,
   "metadata": {},
   "outputs": [],
   "source": []
  }
 ],
 "metadata": {
  "colab": {
   "authorship_tag": "ABX9TyOv659naLVHJgWfqV0q2P70",
   "collapsed_sections": [],
   "name": "LogisticRegressionSentimentAnalysis4thMarch.ipynb",
   "provenance": []
  },
  "kernelspec": {
   "display_name": "Python 3",
   "language": "python",
   "name": "python3"
  },
  "language_info": {
   "codemirror_mode": {
    "name": "ipython",
    "version": 3
   },
   "file_extension": ".py",
   "mimetype": "text/x-python",
   "name": "python",
   "nbconvert_exporter": "python",
   "pygments_lexer": "ipython3",
   "version": "3.6.9"
  }
 },
 "nbformat": 4,
 "nbformat_minor": 1
}
